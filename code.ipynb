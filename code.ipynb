# 1.1 Install and Import Libraries

import numpy as np
import pandas as pd
import matplotlib.pyplot as plt
import seaborn as sns

# Import modules for model selection, pipelines, and metrics
from sklearn.model_selection import train_test_split, GridSearchCV
from sklearn.pipeline import Pipeline
from sklearn.compose import ColumnTransformer
from sklearn.preprocessing import StandardScaler, OneHotEncoder
from sklearn.impute import SimpleImputer
from sklearn.ensemble import RandomForestClassifier  # Ensemble ML Model
from sklearn.linear_model import LogisticRegression    # Linear ML Model
from sklearn.metrics import classification_report, confusion_matrix, accuracy_score

# Set random seed for consistent results
np.random.seed(42)
